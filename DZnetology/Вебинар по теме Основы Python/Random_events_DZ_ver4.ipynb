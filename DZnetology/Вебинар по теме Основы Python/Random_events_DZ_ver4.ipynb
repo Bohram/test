{
 "cells": [
  {
   "cell_type": "markdown",
   "metadata": {},
   "source": [
    "Смоделировать игру против лотерейного автомата типа “777”. Игрок платит 1 руб., после чего выпадает случайное целое число, равномерно распределенное от 0 до 999. При некоторых значениях числа игрок получает выигрыш (см. справа)\n",
    "\n",
    "Выгодна ли игра игроку?\n",
    "\n",
    "Сколько в среднем приобретает\n",
    "или теряет игрок за одну игру?\n",
    "\n",
    "777: 200 руб.\n",
    "999: 100 руб.\n",
    "555: 50 руб.\n",
    "333: 15 руб.\n",
    "111: 10 руб.\n",
    "*77: 5 руб.\n",
    "**7: 3 руб.\n",
    "*00: 2 руб.\n",
    "**0: 1 руб.\n",
    "\n",
    "– любая цифра"
   ]
  },
  {
   "cell_type": "code",
   "execution_count": 2,
   "metadata": {},
   "outputs": [],
   "source": [
    "import numpy as np"
   ]
  },
  {
   "cell_type": "code",
   "execution_count": 27,
   "metadata": {},
   "outputs": [
    {
     "name": "stdout",
     "output_type": "stream",
     "text": [
      "Выйграно 204172 из 1000000\n",
      "Игра НЕ выгодна, проиграли: -196571 руб. В среднем проигрывает за игру: -0.196571 руб.\n"
     ]
    }
   ],
   "source": [
    "win = 0 #Подсчет кол-ва побед.\n",
    "money = 0 #Подсчет денежного выйгриша.\n",
    "trials = 1000000 #Установка кол-ва играемых игр.\n",
    "\n",
    "for i in range(trials):\n",
    "    money -= 1 #Стоимость одной игры\n",
    "    n = np.random.randint(0,1000)\n",
    "    if n == 777:\n",
    "        win += 1\n",
    "        money += 200\n",
    "    elif n == 999:\n",
    "        win += 1\n",
    "        money += 100\n",
    "    elif n == 555:\n",
    "        win += 1\n",
    "        money += 50\n",
    "    elif n == 333:\n",
    "        win += 1\n",
    "        money += 15\n",
    "    elif n == 111:\n",
    "        win += 1\n",
    "        money += 10\n",
    "    elif ('0'+str(n))[-2:] == '77':\n",
    "        win += 1\n",
    "        money += 5\n",
    "    elif ('00'+str(n))[-1] == '7':\n",
    "        win += 1\n",
    "        money += 3\n",
    "    elif ('0'+str(n))[-2:] == '00':\n",
    "        win += 1\n",
    "        money += 2\n",
    "    elif ('00'+str(n))[-1] == '0':\n",
    "        win += 1\n",
    "        money += 1\n",
    "\n",
    "print(f'Выйграно {win} из {trials}')\n",
    "      \n",
    "if money > 0:\n",
    "    print('Игра выгодна, выйграли:', money, 'руб. В среднем выигрывает за игру:', money/trials, 'руб.')\n",
    "else:\n",
    "    print('Игра НЕ выгодна, проиграли:', money, 'руб. В среднем проигрывает за игру:', money/trials, 'руб.')"
   ]
  },
  {
   "cell_type": "code",
   "execution_count": null,
   "metadata": {},
   "outputs": [],
   "source": []
  }
 ],
 "metadata": {
  "kernelspec": {
   "display_name": "Python 3",
   "language": "python",
   "name": "python3"
  },
  "language_info": {
   "codemirror_mode": {
    "name": "ipython",
    "version": 3
   },
   "file_extension": ".py",
   "mimetype": "text/x-python",
   "name": "python",
   "nbconvert_exporter": "python",
   "pygments_lexer": "ipython3",
   "version": "3.7.6"
  }
 },
 "nbformat": 4,
 "nbformat_minor": 4
}
