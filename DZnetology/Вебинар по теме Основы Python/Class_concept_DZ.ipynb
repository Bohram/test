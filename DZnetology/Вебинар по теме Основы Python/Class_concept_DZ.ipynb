{
 "cells": [
  {
   "cell_type": "markdown",
   "metadata": {},
   "source": [
    "Задание 1\n",
    "\n",
    "Напишите функцию, которая возвращает название валюты (поле ‘Name’) с максимальным значением курса с помощью сервиса https://www.cbr-xml-daily.ru/daily_json.js"
   ]
  },
  {
   "cell_type": "code",
   "execution_count": 8,
   "metadata": {},
   "outputs": [
    {
     "name": "stdout",
     "output_type": "stream",
     "text": [
      "Валюта - XDR      Наименование валюты - СДР (специальные права заимствования)      Текущий курс - 105.261\n"
     ]
    }
   ],
   "source": [
    "import requests\n",
    "def maximum_rate():\n",
    "    response = requests.get('https://www.cbr-xml-daily.ru/daily_json.js').json()                                   \n",
    "    a=[]\n",
    "    for i,x in response['Valute'].items():                 \n",
    "        a.append(response['Valute'][i]['Value'])             \n",
    "    b=list(response['Valute'].keys())[a.index(max(a))]        \n",
    "    print(\"Валюта -\",b, \"     Наименование валюты -\",response['Valute'][b]['Name'],\"     Текущий курс -\", max(a))\n",
    "maximum_rate()"
   ]
  },
  {
   "cell_type": "markdown",
   "metadata": {},
   "source": [
    "Задание 2\n",
    "\n",
    "Добавьте в класс Rate параметр diff (со значениями True или False), который в случае значения True в методах курсов валют (eur, usd итд) будет возвращать не курс валюты, а изменение по сравнению в прошлым значением. Считайте, self.diff будет принимать значение True только при возврате значения курса. При отображении всей информации о валюте он не используется."
   ]
  },
  {
   "cell_type": "code",
   "execution_count": 31,
   "metadata": {},
   "outputs": [
    {
     "data": {
      "text/plain": [
       "{'ID': 'R01239',\n",
       " 'NumCode': '978',\n",
       " 'CharCode': 'EUR',\n",
       " 'Nominal': 1,\n",
       " 'Name': 'Евро',\n",
       " 'Value': 88.059,\n",
       " 'Previous': 87.903}"
      ]
     },
     "execution_count": 31,
     "metadata": {},
     "output_type": "execute_result"
    }
   ],
   "source": [
    "class Rate:\n",
    "    def __init__(self, format='value'):\n",
    "        self.format = format\n",
    "    \n",
    "    def exchange_rates(self):\n",
    "\n",
    "        r = requests.get('https://www.cbr-xml-daily.ru/daily_json.js').json()\n",
    "        return r['Valute']\n",
    "    \n",
    "    def make_format(self, currency):\n",
    " \n",
    "        response = self.exchange_rates()\n",
    "        \n",
    "        if currency in response:\n",
    "            if self.format == 'full':\n",
    "                return response[currency]\n",
    "            \n",
    "            if self.format == 'value':\n",
    "                return response[currency]['Value']    \n",
    "            if self.format == 'name':\n",
    "                return response[currency]['Name']\n",
    "            \n",
    "            if self.format == 'diff':\n",
    "                return (response[currency]['Value']-response[currency]['Previous'])\n",
    "        \n",
    "        return 'Error' \n",
    "    \n",
    "    def eur(self, diff=False):\n",
    "        \"\"\"Возвращает курс евро на сегодня в формате self.format\"\"\"\n",
    "        if diff == False:\n",
    "            return self.make_format('EUR')\n",
    "        else: \n",
    "            self.format = 'diff'\n",
    "            return self.make_format('EUR')\n",
    "    \n",
    "    def usd(self, diff=False):\n",
    "        \"\"\"Возвращает курс евро на сегодня в формате self.format\"\"\"\n",
    "        if diff == False:\n",
    "            return self.make_format('USD')\n",
    "        else: \n",
    "            self.format = 'diff'\n",
    "            return self.make_format('USD')\n",
    "        \n",
    "#Rate().eur(diff=True) # изменение по сравнению с прошлым значением\n",
    "#Rate().usd(diff=True) # изменение по сравнению с прошлым значением\n",
    "#Rate('name').eur() #возвращает название валюты \n",
    "\n",
    "Rate('full').eur() #возвращает полную информацию"
   ]
  },
  {
   "cell_type": "markdown",
   "metadata": {},
   "source": [
    "Задание 3\n",
    "\n",
    "Напишите класс Designer, который учитывает количество международных премий. Подсказки в коде занятия в разделе “Домашнее задание задача 3”."
   ]
  },
  {
   "cell_type": "code",
   "execution_count": 25,
   "metadata": {},
   "outputs": [
    {
     "name": "stdout",
     "output_type": "stream",
     "text": [
      "Елена 1\n",
      "Елена 1\n",
      "Елена 2\n",
      "Елена 2\n",
      "Елена 2\n",
      "Елена 2\n",
      "Елена 2\n",
      "Елена 2\n",
      "Елена 2\n",
      "Елена 3\n",
      "Елена 3\n",
      "Елена 3\n",
      "Елена 3\n",
      "Елена 3\n",
      "Елена 3\n",
      "Елена 3\n",
      "Елена 4\n",
      "Елена 4\n",
      "Елена 4\n",
      "Елена 4\n"
     ]
    }
   ],
   "source": [
    "class Employee:\n",
    "    def __init__(self, name, seniority):\n",
    "        self.name = name\n",
    "        self.seniority = seniority\n",
    "        self.grade = 1\n",
    "    \n",
    "    def grade_up(self):\n",
    "        \"\"\"Повышает уровень сотрудника\"\"\"\n",
    "        self.grade += 1\n",
    "    \n",
    "    def publish_grade(self):\n",
    "        \"\"\"Публикация результатов аккредитации сотрудников\"\"\"\n",
    "        print(self.name, self.grade)\n",
    "    \n",
    "    def check_if_it_is_time_for_upgrade(self):\n",
    "        pass\n",
    "#####################################################################\n",
    "    \n",
    "class Designer(Employee):\n",
    "    def __init__(self, name, seniority, awards = 0):\n",
    "        super().__init__(name, seniority)\n",
    "        self.awards = awards\n",
    "        \n",
    "    def check_if_it_is_time_for_upgrade(self):\n",
    "        counter = 0\n",
    "        if counter == 0:\n",
    "            self.seniority = self.seniority + 2 * self.awards\n",
    "            counter += 1\n",
    "        if self.seniority % 7 == 0:\n",
    "            self.grade_up()\n",
    "        self.seniority += 1\n",
    "        \n",
    "        return self.publish_grade()\n",
    "\n",
    "    \n",
    "elena = Designer('Елена', seniority=0, awards=2)\n",
    "for i in range(20):\n",
    "    elena.check_if_it_is_time_for_upgrade()"
   ]
  }
 ],
 "metadata": {
  "kernelspec": {
   "display_name": "Python 3",
   "language": "python",
   "name": "python3"
  },
  "language_info": {
   "codemirror_mode": {
    "name": "ipython",
    "version": 3
   },
   "file_extension": ".py",
   "mimetype": "text/x-python",
   "name": "python",
   "nbconvert_exporter": "python",
   "pygments_lexer": "ipython3",
   "version": "3.7.6"
  }
 },
 "nbformat": 4,
 "nbformat_minor": 4
}
