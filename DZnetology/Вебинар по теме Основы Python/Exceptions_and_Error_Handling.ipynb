{
 "cells": [
  {
   "cell_type": "markdown",
   "metadata": {},
   "source": [
    "Задание 1\n",
    "Печатные газеты использовали свой формат дат для каждого выпуска. Для каждой газеты из списка напишите формат указанной даты для перевода в объект datetime:\n",
    "The Moscow Times - Wednesday, October 2, 2002\n",
    "The Guardian - Friday, 11.10.13\n",
    "Daily News - Thursday, 18 August 1977"
   ]
  },
  {
   "cell_type": "code",
   "execution_count": 8,
   "metadata": {},
   "outputs": [
    {
     "name": "stdout",
     "output_type": "stream",
     "text": [
      "The Moscow Times\t- 2002-10-02 00:00:00 \n",
      "The Guardian\t\t- 2013-10-11 00:00:00 \n",
      "Daily News\t\t- 1977-08-18 00:00:00\n"
     ]
    }
   ],
   "source": [
    "from datetime import datetime\n",
    "\n",
    "mos_times_str = 'Wednesday, October 2, 2002'\n",
    "mos_times = datetime.strptime(mos_times_str, \"%A, %B %d, %Y\")\n",
    "\n",
    "guardian_str = 'Friday, 11.10.13'\n",
    "guardian = datetime.strptime(guardian_str, \"%A, %d.%m.%y\")\n",
    "\n",
    "daily_news_str = 'Thursday, 18 August 1977'\n",
    "daily_news = datetime.strptime(daily_news_str, \"%A, %d %B %Y\")\n",
    "\n",
    "print('The Moscow Times\\t-', mos_times, '\\nThe Guardian\\t\\t-', guardian, '\\nDaily News\\t\\t-', daily_news)"
   ]
  },
  {
   "cell_type": "markdown",
   "metadata": {},
   "source": [
    "Задание 2\n",
    "Дан поток дат в формате YYYY-MM-DD, в которых встречаются некорректные значения:\n",
    "stream = [‘2018-04-02’, ‘2018-02-29’, ‘2018-19-02’]\n",
    "\n",
    "Напишите функцию, которая проверяет эти даты на корректность. Т. е. для каждой даты возвращает True (дата корректна) или False (некорректная дата)."
   ]
  },
  {
   "cell_type": "code",
   "execution_count": 10,
   "metadata": {},
   "outputs": [
    {
     "name": "stdout",
     "output_type": "stream",
     "text": [
      "2018-04-02 True\n",
      "2018-02-29 False\n",
      "2018-19-02 False\n"
     ]
    }
   ],
   "source": [
    "from datetime import datetime\n",
    "\n",
    "stream = ['2018-04-02', '2018-02-29', '2018-19-02']\n",
    "for date in stream:\n",
    "    try:\n",
    "        date_dt = datetime.strptime(date, '%Y-%m-%d')\n",
    "        print(date, 'True')\n",
    "    except:\n",
    "        print(date, 'False')"
   ]
  },
  {
   "cell_type": "markdown",
   "metadata": {},
   "source": [
    "Задание 3\n",
    "Напишите функцию date_range, которая возвращает список дат за период от start_date до end_date. Даты должны вводиться в формате YYYY-MM-DD. В случае неверного формата или при start_date > end_date должен возвращаться пустой список."
   ]
  },
  {
   "cell_type": "code",
   "execution_count": 17,
   "metadata": {},
   "outputs": [
    {
     "name": "stdout",
     "output_type": "stream",
     "text": [
      "Ввеедите дату начала мероприятия в формате YYYY-MM-DD: 2020-02-25\n",
      "Ввеедите дату окончания мероприятия в формате YYYY-MM-DD: 2020-02-29\n",
      "2020-02-25\n",
      "2020-02-26\n",
      "2020-02-27\n",
      "2020-02-28\n",
      "2020-02-29\n"
     ]
    }
   ],
   "source": [
    "from datetime import datetime\n",
    "from datetime import timedelta\n",
    "\n",
    "def date_range(start_date, end_date):\n",
    "    try:\n",
    "        start_date_dt = datetime.strptime(start_date, '%Y-%m-%d')\n",
    "        end_date_dt = datetime.strptime(end_date, '%Y-%m-%d')\n",
    "        if end_date_dt >= start_date_dt:\n",
    "            x_dt = start_date_dt\n",
    "            while x_dt <= end_date_dt:\n",
    "                print(x_dt.strftime('%Y-%m-%d'))\n",
    "                x_dt += timedelta(days=1)\n",
    "        else:\n",
    "            print('Ошибка: дата окончания мероприятия раньше даты начала мероприятия')\n",
    "    except:\n",
    "        print('Некорректный формат')\n",
    "        \n",
    "start_date  = input('Ввеедите дату начала мероприятия в формате YYYY-MM-DD: ')\n",
    "end_date = input('Ввеедите дату окончания мероприятия в формате YYYY-MM-DD: ')\n",
    "date_range(start_date, end_date)"
   ]
  }
 ],
 "metadata": {
  "kernelspec": {
   "display_name": "Python 3",
   "language": "python",
   "name": "python3"
  },
  "language_info": {
   "codemirror_mode": {
    "name": "ipython",
    "version": 3
   },
   "file_extension": ".py",
   "mimetype": "text/x-python",
   "name": "python",
   "nbconvert_exporter": "python",
   "pygments_lexer": "ipython3",
   "version": "3.7.6"
  }
 },
 "nbformat": 4,
 "nbformat_minor": 4
}
